{
  "nbformat": 4,
  "nbformat_minor": 0,
  "metadata": {
    "colab": {
      "name": "MAJOR PROJECT 1",
      "provenance": [],
      "collapsed_sections": [],
      "authorship_tag": "ABX9TyOy4QU3ZjSDw/LD85l53nAx",
      "include_colab_link": true
    },
    "kernelspec": {
      "name": "python3",
      "display_name": "Python 3"
    },
    "language_info": {
      "name": "python"
    }
  },
  "cells": [
    {
      "cell_type": "markdown",
      "metadata": {
        "id": "view-in-github",
        "colab_type": "text"
      },
      "source": [
        "<a href=\"https://colab.research.google.com/github/aravindan2701/spamham123/blob/main/MAJOR_PROJECT_1.ipynb\" target=\"_parent\"><img src=\"https://colab.research.google.com/assets/colab-badge.svg\" alt=\"Open In Colab\"/></a>"
      ]
    },
    {
      "cell_type": "code",
      "execution_count": null,
      "metadata": {
        "colab": {
          "base_uri": "https://localhost:8080/",
          "height": 424
        },
        "id": "FnlRRvBgqIAA",
        "outputId": "28d3fe3d-f47c-4d34-e198-1dac4daa339a"
      },
      "outputs": [
        {
          "output_type": "execute_result",
          "data": {
            "text/plain": [
              "     CustomerID   Genre  Age  Annual Income (k$)  Spending Score (1-100)\n",
              "0             1    Male   19                  15                      39\n",
              "1             2    Male   21                  15                      81\n",
              "2             3  Female   20                  16                       6\n",
              "3             4  Female   23                  16                      77\n",
              "4             5  Female   31                  17                      40\n",
              "..          ...     ...  ...                 ...                     ...\n",
              "195         196  Female   35                 120                      79\n",
              "196         197  Female   45                 126                      28\n",
              "197         198    Male   32                 126                      74\n",
              "198         199    Male   32                 137                      18\n",
              "199         200    Male   30                 137                      83\n",
              "\n",
              "[200 rows x 5 columns]"
            ],
            "text/html": [
              "\n",
              "  <div id=\"df-6a2720e2-e770-4d20-9ac2-2723aa345cd3\">\n",
              "    <div class=\"colab-df-container\">\n",
              "      <div>\n",
              "<style scoped>\n",
              "    .dataframe tbody tr th:only-of-type {\n",
              "        vertical-align: middle;\n",
              "    }\n",
              "\n",
              "    .dataframe tbody tr th {\n",
              "        vertical-align: top;\n",
              "    }\n",
              "\n",
              "    .dataframe thead th {\n",
              "        text-align: right;\n",
              "    }\n",
              "</style>\n",
              "<table border=\"1\" class=\"dataframe\">\n",
              "  <thead>\n",
              "    <tr style=\"text-align: right;\">\n",
              "      <th></th>\n",
              "      <th>CustomerID</th>\n",
              "      <th>Genre</th>\n",
              "      <th>Age</th>\n",
              "      <th>Annual Income (k$)</th>\n",
              "      <th>Spending Score (1-100)</th>\n",
              "    </tr>\n",
              "  </thead>\n",
              "  <tbody>\n",
              "    <tr>\n",
              "      <th>0</th>\n",
              "      <td>1</td>\n",
              "      <td>Male</td>\n",
              "      <td>19</td>\n",
              "      <td>15</td>\n",
              "      <td>39</td>\n",
              "    </tr>\n",
              "    <tr>\n",
              "      <th>1</th>\n",
              "      <td>2</td>\n",
              "      <td>Male</td>\n",
              "      <td>21</td>\n",
              "      <td>15</td>\n",
              "      <td>81</td>\n",
              "    </tr>\n",
              "    <tr>\n",
              "      <th>2</th>\n",
              "      <td>3</td>\n",
              "      <td>Female</td>\n",
              "      <td>20</td>\n",
              "      <td>16</td>\n",
              "      <td>6</td>\n",
              "    </tr>\n",
              "    <tr>\n",
              "      <th>3</th>\n",
              "      <td>4</td>\n",
              "      <td>Female</td>\n",
              "      <td>23</td>\n",
              "      <td>16</td>\n",
              "      <td>77</td>\n",
              "    </tr>\n",
              "    <tr>\n",
              "      <th>4</th>\n",
              "      <td>5</td>\n",
              "      <td>Female</td>\n",
              "      <td>31</td>\n",
              "      <td>17</td>\n",
              "      <td>40</td>\n",
              "    </tr>\n",
              "    <tr>\n",
              "      <th>...</th>\n",
              "      <td>...</td>\n",
              "      <td>...</td>\n",
              "      <td>...</td>\n",
              "      <td>...</td>\n",
              "      <td>...</td>\n",
              "    </tr>\n",
              "    <tr>\n",
              "      <th>195</th>\n",
              "      <td>196</td>\n",
              "      <td>Female</td>\n",
              "      <td>35</td>\n",
              "      <td>120</td>\n",
              "      <td>79</td>\n",
              "    </tr>\n",
              "    <tr>\n",
              "      <th>196</th>\n",
              "      <td>197</td>\n",
              "      <td>Female</td>\n",
              "      <td>45</td>\n",
              "      <td>126</td>\n",
              "      <td>28</td>\n",
              "    </tr>\n",
              "    <tr>\n",
              "      <th>197</th>\n",
              "      <td>198</td>\n",
              "      <td>Male</td>\n",
              "      <td>32</td>\n",
              "      <td>126</td>\n",
              "      <td>74</td>\n",
              "    </tr>\n",
              "    <tr>\n",
              "      <th>198</th>\n",
              "      <td>199</td>\n",
              "      <td>Male</td>\n",
              "      <td>32</td>\n",
              "      <td>137</td>\n",
              "      <td>18</td>\n",
              "    </tr>\n",
              "    <tr>\n",
              "      <th>199</th>\n",
              "      <td>200</td>\n",
              "      <td>Male</td>\n",
              "      <td>30</td>\n",
              "      <td>137</td>\n",
              "      <td>83</td>\n",
              "    </tr>\n",
              "  </tbody>\n",
              "</table>\n",
              "<p>200 rows × 5 columns</p>\n",
              "</div>\n",
              "      <button class=\"colab-df-convert\" onclick=\"convertToInteractive('df-6a2720e2-e770-4d20-9ac2-2723aa345cd3')\"\n",
              "              title=\"Convert this dataframe to an interactive table.\"\n",
              "              style=\"display:none;\">\n",
              "        \n",
              "  <svg xmlns=\"http://www.w3.org/2000/svg\" height=\"24px\"viewBox=\"0 0 24 24\"\n",
              "       width=\"24px\">\n",
              "    <path d=\"M0 0h24v24H0V0z\" fill=\"none\"/>\n",
              "    <path d=\"M18.56 5.44l.94 2.06.94-2.06 2.06-.94-2.06-.94-.94-2.06-.94 2.06-2.06.94zm-11 1L8.5 8.5l.94-2.06 2.06-.94-2.06-.94L8.5 2.5l-.94 2.06-2.06.94zm10 10l.94 2.06.94-2.06 2.06-.94-2.06-.94-.94-2.06-.94 2.06-2.06.94z\"/><path d=\"M17.41 7.96l-1.37-1.37c-.4-.4-.92-.59-1.43-.59-.52 0-1.04.2-1.43.59L10.3 9.45l-7.72 7.72c-.78.78-.78 2.05 0 2.83L4 21.41c.39.39.9.59 1.41.59.51 0 1.02-.2 1.41-.59l7.78-7.78 2.81-2.81c.8-.78.8-2.07 0-2.86zM5.41 20L4 18.59l7.72-7.72 1.47 1.35L5.41 20z\"/>\n",
              "  </svg>\n",
              "      </button>\n",
              "      \n",
              "  <style>\n",
              "    .colab-df-container {\n",
              "      display:flex;\n",
              "      flex-wrap:wrap;\n",
              "      gap: 12px;\n",
              "    }\n",
              "\n",
              "    .colab-df-convert {\n",
              "      background-color: #E8F0FE;\n",
              "      border: none;\n",
              "      border-radius: 50%;\n",
              "      cursor: pointer;\n",
              "      display: none;\n",
              "      fill: #1967D2;\n",
              "      height: 32px;\n",
              "      padding: 0 0 0 0;\n",
              "      width: 32px;\n",
              "    }\n",
              "\n",
              "    .colab-df-convert:hover {\n",
              "      background-color: #E2EBFA;\n",
              "      box-shadow: 0px 1px 2px rgba(60, 64, 67, 0.3), 0px 1px 3px 1px rgba(60, 64, 67, 0.15);\n",
              "      fill: #174EA6;\n",
              "    }\n",
              "\n",
              "    [theme=dark] .colab-df-convert {\n",
              "      background-color: #3B4455;\n",
              "      fill: #D2E3FC;\n",
              "    }\n",
              "\n",
              "    [theme=dark] .colab-df-convert:hover {\n",
              "      background-color: #434B5C;\n",
              "      box-shadow: 0px 1px 3px 1px rgba(0, 0, 0, 0.15);\n",
              "      filter: drop-shadow(0px 1px 2px rgba(0, 0, 0, 0.3));\n",
              "      fill: #FFFFFF;\n",
              "    }\n",
              "  </style>\n",
              "\n",
              "      <script>\n",
              "        const buttonEl =\n",
              "          document.querySelector('#df-6a2720e2-e770-4d20-9ac2-2723aa345cd3 button.colab-df-convert');\n",
              "        buttonEl.style.display =\n",
              "          google.colab.kernel.accessAllowed ? 'block' : 'none';\n",
              "\n",
              "        async function convertToInteractive(key) {\n",
              "          const element = document.querySelector('#df-6a2720e2-e770-4d20-9ac2-2723aa345cd3');\n",
              "          const dataTable =\n",
              "            await google.colab.kernel.invokeFunction('convertToInteractive',\n",
              "                                                     [key], {});\n",
              "          if (!dataTable) return;\n",
              "\n",
              "          const docLinkHtml = 'Like what you see? Visit the ' +\n",
              "            '<a target=\"_blank\" href=https://colab.research.google.com/notebooks/data_table.ipynb>data table notebook</a>'\n",
              "            + ' to learn more about interactive tables.';\n",
              "          element.innerHTML = '';\n",
              "          dataTable['output_type'] = 'display_data';\n",
              "          await google.colab.output.renderOutput(dataTable, element);\n",
              "          const docLink = document.createElement('div');\n",
              "          docLink.innerHTML = docLinkHtml;\n",
              "          element.appendChild(docLink);\n",
              "        }\n",
              "      </script>\n",
              "    </div>\n",
              "  </div>\n",
              "  "
            ]
          },
          "metadata": {},
          "execution_count": 3
        }
      ],
      "source": [
        "import pandas as pd\n",
        "df=pd.read_csv('https://raw.githubusercontent.com/ameenmanna8824/DATASETS/main/Mall_Customers.csv')\n",
        "df"
      ]
    },
    {
      "cell_type": "code",
      "source": [
        "from google.colab import drive\n",
        "drive.mount('/content/drive')"
      ],
      "metadata": {
        "id": "LwjUWPYBR9Fr"
      },
      "execution_count": null,
      "outputs": []
    },
    {
      "cell_type": "code",
      "source": [
        "df.shape"
      ],
      "metadata": {
        "colab": {
          "base_uri": "https://localhost:8080/"
        },
        "id": "_SUPLR6vqTtc",
        "outputId": "e17b2750-cae3-41a0-b2c3-7e138d3479c9"
      },
      "execution_count": null,
      "outputs": [
        {
          "output_type": "execute_result",
          "data": {
            "text/plain": [
              "(200, 5)"
            ]
          },
          "metadata": {},
          "execution_count": 4
        }
      ]
    },
    {
      "cell_type": "code",
      "source": [
        "  import seaborn as sns\n",
        "  sns.distplot(df['Age'])"
      ],
      "metadata": {
        "colab": {
          "base_uri": "https://localhost:8080/",
          "height": 351
        },
        "id": "1DuARrfcq0Ik",
        "outputId": "a93b0c10-36fb-4308-bbb1-d944fdf95c52"
      },
      "execution_count": null,
      "outputs": [
        {
          "output_type": "stream",
          "name": "stderr",
          "text": [
            "/usr/local/lib/python3.7/dist-packages/seaborn/distributions.py:2619: FutureWarning: `distplot` is a deprecated function and will be removed in a future version. Please adapt your code to use either `displot` (a figure-level function with similar flexibility) or `histplot` (an axes-level function for histograms).\n",
            "  warnings.warn(msg, FutureWarning)\n"
          ]
        },
        {
          "output_type": "execute_result",
          "data": {
            "text/plain": [
              "<matplotlib.axes._subplots.AxesSubplot at 0x7f2ff029d9d0>"
            ]
          },
          "metadata": {},
          "execution_count": 5
        },
        {
          "output_type": "display_data",
          "data": {
            "text/plain": [
              "<Figure size 432x288 with 1 Axes>"
            ],
            "image/png": "[encoded data removed]"
          },
          "metadata": {
            "needs_background": "light"
          }
        }
      ]
    },
    {
      "cell_type": "code",
      "source": [
        "df_numeric=df.select_dtypes(include = ['float64','int64'])\n",
        "df_numeric"
      ],
      "metadata": {
        "colab": {
          "base_uri": "https://localhost:8080/",
          "height": 424
        },
        "id": "gw2QsBtFHa2a",
        "outputId": "289d2913-a225-4b8c-941a-b8ba9837d044"
      },
      "execution_count": null,
      "outputs": [
        {
          "output_type": "execute_result",
          "data": {
            "text/plain": [
              "     CustomerID  Age  Annual Income (k$)\n",
              "0             1   19                  15\n",
              "1             2   21                  15\n",
              "2             3   20                  16\n",
              "3             4   23                  16\n",
              "4             5   31                  17\n",
              "..          ...  ...                 ...\n",
              "195         196   35                 120\n",
              "196         197   45                 126\n",
              "197         198   32                 126\n",
              "198         199   32                 137\n",
              "199         200   30                 137\n",
              "\n",
              "[200 rows x 3 columns]"
            ],
            "text/html": [
              "\n",
              "  <div id=\"df-aad1e98d-d0ba-4834-bf72-d198432f32a8\">\n",
              "    <div class=\"colab-df-container\">\n",
              "      <div>\n",
              "<style scoped>\n",
              "    .dataframe tbody tr th:only-of-type {\n",
              "        vertical-align: middle;\n",
              "    }\n",
              "\n",
              "    .dataframe tbody tr th {\n",
              "        vertical-align: top;\n",
              "    }\n",
              "\n",
              "    .dataframe thead th {\n",
              "        text-align: right;\n",
              "    }\n",
              "</style>\n",
              "<table border=\"1\" class=\"dataframe\">\n",
              "  <thead>\n",
              "    <tr style=\"text-align: right;\">\n",
              "      <th></th>\n",
              "      <th>CustomerID</th>\n",
              "      <th>Age</th>\n",
              "      <th>Annual Income (k$)</th>\n",
              "    </tr>\n",
              "  </thead>\n",
              "  <tbody>\n",
              "    <tr>\n",
              "      <th>0</th>\n",
              "      <td>1</td>\n",
              "      <td>19</td>\n",
              "      <td>15</td>\n",
              "    </tr>\n",
              "    <tr>\n",
              "      <th>1</th>\n",
              "      <td>2</td>\n",
              "      <td>21</td>\n",
              "      <td>15</td>\n",
              "    </tr>\n",
              "    <tr>\n",
              "      <th>2</th>\n",
              "      <td>3</td>\n",
              "      <td>20</td>\n",
              "      <td>16</td>\n",
              "    </tr>\n",
              "    <tr>\n",
              "      <th>3</th>\n",
              "      <td>4</td>\n",
              "      <td>23</td>\n",
              "      <td>16</td>\n",
              "    </tr>\n",
              "    <tr>\n",
              "      <th>4</th>\n",
              "      <td>5</td>\n",
              "      <td>31</td>\n",
              "      <td>17</td>\n",
              "    </tr>\n",
              "    <tr>\n",
              "      <th>...</th>\n",
              "      <td>...</td>\n",
              "      <td>...</td>\n",
              "      <td>...</td>\n",
              "    </tr>\n",
              "    <tr>\n",
              "      <th>195</th>\n",
              "      <td>196</td>\n",
              "      <td>35</td>\n",
              "      <td>120</td>\n",
              "    </tr>\n",
              "    <tr>\n",
              "      <th>196</th>\n",
              "      <td>197</td>\n",
              "      <td>45</td>\n",
              "      <td>126</td>\n",
              "    </tr>\n",
              "    <tr>\n",
              "      <th>197</th>\n",
              "      <td>198</td>\n",
              "      <td>32</td>\n",
              "      <td>126</td>\n",
              "    </tr>\n",
              "    <tr>\n",
              "      <th>198</th>\n",
              "      <td>199</td>\n",
              "      <td>32</td>\n",
              "      <td>137</td>\n",
              "    </tr>\n",
              "    <tr>\n",
              "      <th>199</th>\n",
              "      <td>200</td>\n",
              "      <td>30</td>\n",
              "      <td>137</td>\n",
              "    </tr>\n",
              "  </tbody>\n",
              "</table>\n",
              "<p>200 rows × 3 columns</p>\n",
              "</div>\n",
              "      <button class=\"colab-df-convert\" onclick=\"convertToInteractive('df-aad1e98d-d0ba-4834-bf72-d198432f32a8')\"\n",
              "              title=\"Convert this dataframe to an interactive table.\"\n",
              "              style=\"display:none;\">\n",
              "        \n",
              "  <svg xmlns=\"http://www.w3.org/2000/svg\" height=\"24px\"viewBox=\"0 0 24 24\"\n",
              "       width=\"24px\">\n",
              "    <path d=\"M0 0h24v24H0V0z\" fill=\"none\"/>\n",
              "    <path d=\"M18.56 5.44l.94 2.06.94-2.06 2.06-.94-2.06-.94-.94-2.06-.94 2.06-2.06.94zm-11 1L8.5 8.5l.94-2.06 2.06-.94-2.06-.94L8.5 2.5l-.94 2.06-2.06.94zm10 10l.94 2.06.94-2.06 2.06-.94-2.06-.94-.94-2.06-.94 2.06-2.06.94z\"/><path d=\"M17.41 7.96l-1.37-1.37c-.4-.4-.92-.59-1.43-.59-.52 0-1.04.2-1.43.59L10.3 9.45l-7.72 7.72c-.78.78-.78 2.05 0 2.83L4 21.41c.39.39.9.59 1.41.59.51 0 1.02-.2 1.41-.59l7.78-7.78 2.81-2.81c.8-.78.8-2.07 0-2.86zM5.41 20L4 18.59l7.72-7.72 1.47 1.35L5.41 20z\"/>\n",
              "  </svg>\n",
              "      </button>\n",
              "      \n",
              "  <style>\n",
              "    .colab-df-container {\n",
              "      display:flex;\n",
              "      flex-wrap:wrap;\n",
              "      gap: 12px;\n",
              "    }\n",
              "\n",
              "    .colab-df-convert {\n",
              "      background-color: #E8F0FE;\n",
              "      border: none;\n",
              "      border-radius: 50%;\n",
              "      cursor: pointer;\n",
              "      display: none;\n",
              "      fill: #1967D2;\n",
              "      height: 32px;\n",
              "      padding: 0 0 0 0;\n",
              "      width: 32px;\n",
              "    }\n",
              "\n",
              "    .colab-df-convert:hover {\n",
              "      background-color: #E2EBFA;\n",
              "      box-shadow: 0px 1px 2px rgba(60, 64, 67, 0.3), 0px 1px 3px 1px rgba(60, 64, 67, 0.15);\n",
              "      fill: #174EA6;\n",
              "    }\n",
              "\n",
              "    [theme=dark] .colab-df-convert {\n",
              "      background-color: #3B4455;\n",
              "      fill: #D2E3FC;\n",
              "    }\n",
              "\n",
              "    [theme=dark] .colab-df-convert:hover {\n",
              "      background-color: #434B5C;\n",
              "      box-shadow: 0px 1px 3px 1px rgba(0, 0, 0, 0.15);\n",
              "      filter: drop-shadow(0px 1px 2px rgba(0, 0, 0, 0.3));\n",
              "      fill: #FFFFFF;\n",
              "    }\n",
              "  </style>\n",
              "\n",
              "      <script>\n",
              "        const buttonEl =\n",
              "          document.querySelector('#df-aad1e98d-d0ba-4834-bf72-d198432f32a8 button.colab-df-convert');\n",
              "        buttonEl.style.display =\n",
              "          google.colab.kernel.accessAllowed ? 'block' : 'none';\n",
              "\n",
              "        async function convertToInteractive(key) {\n",
              "          const element = document.querySelector('#df-aad1e98d-d0ba-4834-bf72-d198432f32a8');\n",
              "          const dataTable =\n",
              "            await google.colab.kernel.invokeFunction('convertToInteractive',\n",
              "                                                     [key], {});\n",
              "          if (!dataTable) return;\n",
              "\n",
              "          const docLinkHtml = 'Like what you see? Visit the ' +\n",
              "            '<a target=\"_blank\" href=https://colab.research.google.com/notebooks/data_table.ipynb>data table notebook</a>'\n",
              "            + ' to learn more about interactive tables.';\n",
              "          element.innerHTML = '';\n",
              "          dataTable['output_type'] = 'display_data';\n",
              "          await google.colab.output.renderOutput(dataTable, element);\n",
              "          const docLink = document.createElement('div');\n",
              "          docLink.innerHTML = docLinkHtml;\n",
              "          element.appendChild(docLink);\n",
              "        }\n",
              "      </script>\n",
              "    </div>\n",
              "  </div>\n",
              "  "
            ]
          },
          "metadata": {},
          "execution_count": 26
        }
      ]
    },
    {
      "cell_type": "code",
      "source": [
        "df_numeric.info()"
      ],
      "metadata": {
        "colab": {
          "base_uri": "https://localhost:8080/"
        },
        "id": "oDdRo6SytC9W",
        "outputId": "0d270a11-1b7c-424e-b409-4d87d13ffc27"
      },
      "execution_count": null,
      "outputs": [
        {
          "output_type": "stream",
          "name": "stdout",
          "text": [
            "<class 'pandas.core.frame.DataFrame'>\n",
            "RangeIndex: 200 entries, 0 to 199\n",
            "Data columns (total 3 columns):\n",
            " #   Column              Non-Null Count  Dtype\n",
            "---  ------              --------------  -----\n",
            " 0   CustomerID          200 non-null    int64\n",
            " 1   Age                 200 non-null    int64\n",
            " 2   Annual Income (k$)  200 non-null    int64\n",
            "dtypes: int64(3)\n",
            "memory usage: 4.8 KB\n"
          ]
        }
      ]
    },
    {
      "cell_type": "code",
      "source": [
        "x=df_numeric.iloc[:,0:2].values\n",
        "x"
      ],
      "metadata": {
        "colab": {
          "base_uri": "https://localhost:8080/"
        },
        "id": "7ljX9OgctsiM",
        "outputId": "f717cf19-9cf7-4a56-b930-0b71677ca2b2"
      },
      "execution_count": null,
      "outputs": [
        {
          "output_type": "execute_result",
          "data": {
            "text/plain": [
              "array([[  1,  19],\n",
              "       [  2,  21],\n",
              "       [  3,  20],\n",
              "       [  4,  23],\n",
              "       [  5,  31],\n",
              "       [  6,  22],\n",
              "       [  7,  35],\n",
              "       [  8,  23],\n",
              "       [  9,  64],\n",
              "       [ 10,  30],\n",
              "       [ 11,  67],\n",
              "       [ 12,  35],\n",
              "       [ 13,  58],\n",
              "       [ 14,  24],\n",
              "       [ 15,  37],\n",
              "       [ 16,  22],\n",
              "       [ 17,  35],\n",
              "       [ 18,  20],\n",
              "       [ 19,  52],\n",
              "       [ 20,  35],\n",
              "       [ 21,  35],\n",
              "       [ 22,  25],\n",
              "       [ 23,  46],\n",
              "       [ 24,  31],\n",
              "       [ 25,  54],\n",
              "       [ 26,  29],\n",
              "       [ 27,  45],\n",
              "       [ 28,  35],\n",
              "       [ 29,  40],\n",
              "       [ 30,  23],\n",
              "       [ 31,  60],\n",
              "       [ 32,  21],\n",
              "       [ 33,  53],\n",
              "       [ 34,  18],\n",
              "       [ 35,  49],\n",
              "       [ 36,  21],\n",
              "       [ 37,  42],\n",
              "       [ 38,  30],\n",
              "       [ 39,  36],\n",
              "       [ 40,  20],\n",
              "       [ 41,  65],\n",
              "       [ 42,  24],\n",
              "       [ 43,  48],\n",
              "       [ 44,  31],\n",
              "       [ 45,  49],\n",
              "       [ 46,  24],\n",
              "       [ 47,  50],\n",
              "       [ 48,  27],\n",
              "       [ 49,  29],\n",
              "       [ 50,  31],\n",
              "       [ 51,  49],\n",
              "       [ 52,  33],\n",
              "       [ 53,  31],\n",
              "       [ 54,  59],\n",
              "       [ 55,  50],\n",
              "       [ 56,  47],\n",
              "       [ 57,  51],\n",
              "       [ 58,  69],\n",
              "       [ 59,  27],\n",
              "       [ 60,  53],\n",
              "       [ 61,  70],\n",
              "       [ 62,  19],\n",
              "       [ 63,  67],\n",
              "       [ 64,  54],\n",
              "       [ 65,  63],\n",
              "       [ 66,  18],\n",
              "       [ 67,  43],\n",
              "       [ 68,  68],\n",
              "       [ 69,  19],\n",
              "       [ 70,  32],\n",
              "       [ 71,  70],\n",
              "       [ 72,  47],\n",
              "       [ 73,  60],\n",
              "       [ 74,  60],\n",
              "       [ 75,  59],\n",
              "       [ 76,  26],\n",
              "       [ 77,  45],\n",
              "       [ 78,  40],\n",
              "       [ 79,  23],\n",
              "       [ 80,  49],\n",
              "       [ 81,  57],\n",
              "       [ 82,  38],\n",
              "       [ 83,  67],\n",
              "       [ 84,  46],\n",
              "       [ 85,  21],\n",
              "       [ 86,  48],\n",
              "       [ 87,  55],\n",
              "       [ 88,  22],\n",
              "       [ 89,  34],\n",
              "       [ 90,  50],\n",
              "       [ 91,  68],\n",
              "       [ 92,  18],\n",
              "       [ 93,  48],\n",
              "       [ 94,  40],\n",
              "       [ 95,  32],\n",
              "       [ 96,  24],\n",
              "       [ 97,  47],\n",
              "       [ 98,  27],\n",
              "       [ 99,  48],\n",
              "       [100,  20],\n",
              "       [101,  23],\n",
              "       [102,  49],\n",
              "       [103,  67],\n",
              "       [104,  26],\n",
              "       [105,  49],\n",
              "       [106,  21],\n",
              "       [107,  66],\n",
              "       [108,  54],\n",
              "       [109,  68],\n",
              "       [110,  66],\n",
              "       [111,  65],\n",
              "       [112,  19],\n",
              "       [113,  38],\n",
              "       [114,  19],\n",
              "       [115,  18],\n",
              "       [116,  19],\n",
              "       [117,  63],\n",
              "       [118,  49],\n",
              "       [119,  51],\n",
              "       [120,  50],\n",
              "       [121,  27],\n",
              "       [122,  38],\n",
              "       [123,  40],\n",
              "       [124,  39],\n",
              "       [125,  23],\n",
              "       [126,  31],\n",
              "       [127,  43],\n",
              "       [128,  40],\n",
              "       [129,  59],\n",
              "       [130,  38],\n",
              "       [131,  47],\n",
              "       [132,  39],\n",
              "       [133,  25],\n",
              "       [134,  31],\n",
              "       [135,  20],\n",
              "       [136,  29],\n",
              "       [137,  44],\n",
              "       [138,  32],\n",
              "       [139,  19],\n",
              "       [140,  35],\n",
              "       [141,  57],\n",
              "       [142,  32],\n",
              "       [143,  28],\n",
              "       [144,  32],\n",
              "       [145,  25],\n",
              "       [146,  28],\n",
              "       [147,  48],\n",
              "       [148,  32],\n",
              "       [149,  34],\n",
              "       [150,  34],\n",
              "       [151,  43],\n",
              "       [152,  39],\n",
              "       [153,  44],\n",
              "       [154,  38],\n",
              "       [155,  47],\n",
              "       [156,  27],\n",
              "       [157,  37],\n",
              "       [158,  30],\n",
              "       [159,  34],\n",
              "       [160,  30],\n",
              "       [161,  56],\n",
              "       [162,  29],\n",
              "       [163,  19],\n",
              "       [164,  31],\n",
              "       [165,  50],\n",
              "       [166,  36],\n",
              "       [167,  42],\n",
              "       [168,  33],\n",
              "       [169,  36],\n",
              "       [170,  32],\n",
              "       [171,  40],\n",
              "       [172,  28],\n",
              "       [173,  36],\n",
              "       [174,  36],\n",
              "       [175,  52],\n",
              "       [176,  30],\n",
              "       [177,  58],\n",
              "       [178,  27],\n",
              "       [179,  59],\n",
              "       [180,  35],\n",
              "       [181,  37],\n",
              "       [182,  32],\n",
              "       [183,  46],\n",
              "       [184,  29],\n",
              "       [185,  41],\n",
              "       [186,  30],\n",
              "       [187,  54],\n",
              "       [188,  28],\n",
              "       [189,  41],\n",
              "       [190,  36],\n",
              "       [191,  34],\n",
              "       [192,  32],\n",
              "       [193,  33],\n",
              "       [194,  38],\n",
              "       [195,  47],\n",
              "       [196,  35],\n",
              "       [197,  45],\n",
              "       [198,  32],\n",
              "       [199,  32],\n",
              "       [200,  30]])"
            ]
          },
          "metadata": {},
          "execution_count": 28
        }
      ]
    },
    {
      "cell_type": "code",
      "source": [
        "y=df.iloc[:,3].values\n",
        "y"
      ],
      "metadata": {
        "colab": {
          "base_uri": "https://localhost:8080/"
        },
        "id": "2CNEXa9nt_dY",
        "outputId": "f8bbbe29-3a6a-40e3-ece9-e8fc66e27bd5"
      },
      "execution_count": null,
      "outputs": [
        {
          "output_type": "execute_result",
          "data": {
            "text/plain": [
              "array([ 15,  15,  16,  16,  17,  17,  18,  18,  19,  19,  19,  19,  20,\n",
              "        20,  20,  20,  21,  21,  23,  23,  24,  24,  25,  25,  28,  28,\n",
              "        28,  28,  29,  29,  30,  30,  33,  33,  33,  33,  34,  34,  37,\n",
              "        37,  38,  38,  39,  39,  39,  39,  40,  40,  40,  40,  42,  42,\n",
              "        43,  43,  43,  43,  44,  44,  46,  46,  46,  46,  47,  47,  48,\n",
              "        48,  48,  48,  48,  48,  49,  49,  50,  50,  54,  54,  54,  54,\n",
              "        54,  54,  54,  54,  54,  54,  54,  54,  57,  57,  58,  58,  59,\n",
              "        59,  60,  60,  60,  60,  60,  60,  61,  61,  62,  62,  62,  62,\n",
              "        62,  62,  63,  63,  63,  63,  63,  63,  64,  64,  65,  65,  65,\n",
              "        65,  67,  67,  67,  67,  69,  69,  70,  70,  71,  71,  71,  71,\n",
              "        71,  71,  72,  72,  73,  73,  73,  73,  74,  74,  75,  75,  76,\n",
              "        76,  77,  77,  77,  77,  78,  78,  78,  78,  78,  78,  78,  78,\n",
              "        78,  78,  78,  78,  79,  79,  81,  81,  85,  85,  86,  86,  87,\n",
              "        87,  87,  87,  87,  87,  88,  88,  88,  88,  93,  93,  97,  97,\n",
              "        98,  98,  99,  99, 101, 101, 103, 103, 103, 103, 113, 113, 120,\n",
              "       120, 126, 126, 137, 137])"
            ]
          },
          "metadata": {},
          "execution_count": 30
        }
      ]
    },
    {
      "cell_type": "code",
      "source": [
        "from sklearn.model_selection import train_test_split\n",
        "x_test,x_train,y_test,y_train=train_test_split(x,y,random_state=0)"
      ],
      "metadata": {
        "id": "V5oT8QTAuQWK"
      },
      "execution_count": null,
      "outputs": []
    },
    {
      "cell_type": "code",
      "source": [
        "print(x.shape)\n",
        "print(x_test.shape)\n",
        "print(x_train.shape)"
      ],
      "metadata": {
        "colab": {
          "base_uri": "https://localhost:8080/"
        },
        "id": "OfLWBs3TBtAs",
        "outputId": "dc3f5cd7-a73c-411f-8d58-194d19ae0d72"
      },
      "execution_count": null,
      "outputs": [
        {
          "output_type": "stream",
          "name": "stdout",
          "text": [
            "(200, 2)\n",
            "(150, 2)\n",
            "(50, 2)\n"
          ]
        }
      ]
    },
    {
      "cell_type": "code",
      "source": [
        "print(y.shape)\n",
        "print(y_test.shape)\n",
        "print(y_train.shape)"
      ],
      "metadata": {
        "colab": {
          "base_uri": "https://localhost:8080/"
        },
        "id": "hC49OivMDMdZ",
        "outputId": "b81e6b15-fa7f-4da8-a508-44c6c1a61a4d"
      },
      "execution_count": null,
      "outputs": [
        {
          "output_type": "stream",
          "name": "stdout",
          "text": [
            "(200,)\n",
            "(150,)\n",
            "(50,)\n"
          ]
        }
      ]
    },
    {
      "cell_type": "code",
      "source": [
        "from sklearn.preprocessing import MinMaxScaler\n",
        "scaler=MinMaxScaler()\n",
        "x_train=scaler.fit_transform(x_train)\n",
        "x_test=scaler.fit_transform(x_test)"
      ],
      "metadata": {
        "id": "Km3juM4RD9i1"
      },
      "execution_count": null,
      "outputs": []
    },
    {
      "cell_type": "code",
      "source": [
        "from sklearn.linear_model import LinearRegression\n",
        "model=LinearRegression() "
      ],
      "metadata": {
        "id": "3fOWucJBFwt6"
      },
      "execution_count": null,
      "outputs": []
    },
    {
      "cell_type": "code",
      "source": [
        "model.fit(x_train,y_train)"
      ],
      "metadata": {
        "colab": {
          "base_uri": "https://localhost:8080/"
        },
        "id": "uzk91ogFJAYW",
        "outputId": "40dee9d8-463e-40ba-9977-fe70786afd1c"
      },
      "execution_count": null,
      "outputs": [
        {
          "output_type": "execute_result",
          "data": {
            "text/plain": [
              "LinearRegression()"
            ]
          },
          "metadata": {},
          "execution_count": 36
        }
      ]
    },
    {
      "cell_type": "code",
      "source": [
        "y_pred=model.predict(x_test)\n",
        "y_pred"
      ],
      "metadata": {
        "colab": {
          "base_uri": "https://localhost:8080/"
        },
        "id": "JgA_DNUoJLx9",
        "outputId": "ba98ecfe-60e6-4dd3-ed91-7bc656d50a8a"
      },
      "execution_count": null,
      "outputs": [
        {
          "output_type": "execute_result",
          "data": {
            "text/plain": [
              "array([47.25530539, 67.41437276, 91.55586705, 56.90427484, 77.57560233,\n",
              "       28.96103202, 31.49790979, 82.54797629, 35.57993424, 41.46831061,\n",
              "       70.6370528 , 57.09510359, 90.11210196, 26.43787273, 79.26685418,\n",
              "       55.54995691, 40.65190572, 82.99822622, 38.97437236, 53.39295259,\n",
              "       73.66890409, 55.34719374, 72.79405713, 59.1215053 , 75.34465338,\n",
              "       54.4276232 , 62.7669983 , 24.52835516, 29.58660816, 74.36842484,\n",
              "       92.35676939, 37.5031703 , 72.80777561, 95.71005205, 62.43184844,\n",
              "       44.29739872, 19.30849445, 42.70752846, 72.75111761, 96.4095728 ,\n",
              "       35.76719487, 23.83061847, 95.66711253, 48.42236269, 96.39585432,\n",
              "       89.72029409, 87.69210832, 68.78597729, 55.70978057, 63.12958513,\n",
              "       81.11792968, 94.04802124, 39.04831697, 18.49208956, 55.86960423,\n",
              "       63.1313692 , 56.02942788, 44.96769844, 84.631036  , 34.77546377,\n",
              "       46.02980603, 38.12874643, 37.67671244, 52.79481342, 23.75488979,\n",
              "       82.1526003 , 27.89535631, 92.72292434, 71.91921017, 26.83146466,\n",
              "       24.48363158, 49.30914407, 60.30228108, 39.30952222, 57.96816649,\n",
              "       49.16482297, 19.78974948, 65.4344787 , 83.94701779, 96.80316473,\n",
              "       21.32117767, 45.25634066, 51.61225357, 66.67191248, 79.73260666,\n",
              "       86.05929854, 80.41840893, 54.27973397, 97.13831459, 23.28913731,\n",
              "       66.23538104, 60.04107584, 32.3262491 , 42.38788115, 44.04634384,\n",
              "       18.94412355, 65.95688918, 82.25398188, 35.87036052, 59.87768406,\n",
              "       70.62155025, 87.08025067, 25.21237337, 33.9453404 , 71.19046838,\n",
              "       40.5213031 , 80.60745362, 70.04069769, 32.75084613, 30.12630525,\n",
              "       63.33234831, 78.50889136, 30.75188139, 84.50043338, 69.09190612,\n",
              "       88.9038892 , 32.08054641, 74.64513263, 85.38899882, 76.72997641,\n",
              "       30.0231396 , 57.48691146, 52.16923728, 50.46248289, 63.75516127,\n",
              "       77.1820104 , 95.0105313 , 48.02877076, 49.41230972, 28.6240981 ,\n",
              "       83.93151525, 50.92823537, 93.13023476, 87.94137914, 93.71287138,\n",
              "       33.87139578, 41.55418965, 74.70535876, 53.56649473, 47.53379725,\n",
              "       52.82225039, 33.33348275, 26.93284625, 22.35584828, 59.23660537,\n",
              "       46.2945794 , 94.4708342 , 65.41897615, 37.22467844, 86.68665874])"
            ]
          },
          "metadata": {},
          "execution_count": 39
        }
      ]
    },
    {
      "cell_type": "code",
      "source": [
        "y_test"
      ],
      "metadata": {
        "colab": {
          "base_uri": "https://localhost:8080/"
        },
        "id": "q5dyHUVJJY_Y",
        "outputId": "cb6897e5-6d6a-4bae-8dc1-2deb6e100a88"
      },
      "execution_count": null,
      "outputs": [
        {
          "output_type": "execute_result",
          "data": {
            "text/plain": [
              "array([ 49,  70,  99,  60,  78,  28,  30,  79,  38,  44,  71,  60,  97,\n",
              "        23,  78,  60,  43,  81,  42,  57,  74,  59,  73,  62,  77,  58,\n",
              "        63,  20,  28,  75, 101,  40,  74, 120,  63,  47,  16,  46,  73,\n",
              "       126,  39,  19, 120,  50, 126,  93,  88,  71,  60,  64,  78, 103,\n",
              "        42,  15,  60,  63,  60,  48,  86,  38,  48,  40,  40,  54,  20,\n",
              "        79,  25, 101,  73,  24,  20,  54,  62,  43,  62,  54,  16,  65,\n",
              "        85, 137,  18,  48,  54,  67,  78,  87,  78,  59, 137,  19,  67,\n",
              "        62,  33,  44,  48,  15,  67,  81,  39,  62,  72,  87,  21,  37,\n",
              "        72,  43,  78,  71,  33,  29,  65,  78,  30,  86,  71,  88,  33,\n",
              "        76,  87,  77,  29,  61,  54,  54,  65,  78, 113,  50,  54,  28,\n",
              "        85,  54, 103,  88, 103,  37,  46,  75,  58,  49,  57,  34,  24,\n",
              "        19,  62,  48, 113,  65,  40,  87])"
            ]
          },
          "metadata": {},
          "execution_count": 41
        }
      ]
    },
    {
      "cell_type": "code",
      "source": [
        "print(x_train[5])"
      ],
      "metadata": {
        "colab": {
          "base_uri": "https://localhost:8080/"
        },
        "id": "lq22_frAJirO",
        "outputId": "1b52b0a0-d614-49ef-cac9-105b45ba8de4"
      },
      "execution_count": null,
      "outputs": [
        {
          "output_type": "stream",
          "name": "stdout",
          "text": [
            "[0.96216216 0.53846154]\n"
          ]
        }
      ]
    },
    {
      "cell_type": "code",
      "source": [
        "model.predict([x_train[5]])"
      ],
      "metadata": {
        "colab": {
          "base_uri": "https://localhost:8080/"
        },
        "id": "PowDcGJaJwaZ",
        "outputId": "44d5199d-4a5a-40c7-a722-2f7f231766fc"
      },
      "execution_count": null,
      "outputs": [
        {
          "output_type": "execute_result",
          "data": {
            "text/plain": [
              "array([94.64221029])"
            ]
          },
          "metadata": {},
          "execution_count": 45
        }
      ]
    },
    {
      "cell_type": "code",
      "source": [
        "import numpy as np\n",
        "import matplotlib.pyplot as plt\n",
        "np.random.seed(0)\n",
        "x1=np.random.randint(1,50,30)\n",
        "x1=np.sort(x1)\n",
        "x2=np.random.randint(1,50,30)\n",
        "plt.plot(x1,x2)"
      ],
      "metadata": {
        "colab": {
          "base_uri": "https://localhost:8080/",
          "height": 285
        },
        "id": "twonJ_T_KPTa",
        "outputId": "86c93324-9003-4710-c3ff-8e591bf43f7a"
      },
      "execution_count": null,
      "outputs": [
        {
          "output_type": "execute_result",
          "data": {
            "text/plain": [
              "[<matplotlib.lines.Line2D at 0x7f2feadead90>]"
            ]
          },
          "metadata": {},
          "execution_count": 47
        },
        {
          "output_type": "display_data",
          "data": {
            "text/plain": [
              "<Figure size 432x288 with 1 Axes>"
            ],
            "image/png": "[encoded data removed]"
          },
          "metadata": {
            "needs_background": "light"
          }
        }
      ]
    },
    {
      "cell_type": "code",
      "source": [
        "x1min=min(x1)\n",
        "x1max=max(x1)\n",
        "x2min=min(x2)\n",
        "x2max=max(x2) \n",
        "x1norm=(x1-x1min)/(x1max-x1min)\n",
        "x2norm=(x2-x2min)/(x2max-x2min)\n",
        "plt.plot(x1norm,x2norm)"
      ],
      "metadata": {
        "colab": {
          "base_uri": "https://localhost:8080/",
          "height": 282
        },
        "id": "XH_ki4oLLdTb",
        "outputId": "deceed88-89e9-4b45-f26c-aaa38b6fe52a"
      },
      "execution_count": null,
      "outputs": [
        {
          "output_type": "execute_result",
          "data": {
            "text/plain": [
              "[<matplotlib.lines.Line2D at 0x7f2feae57410>]"
            ]
          },
          "metadata": {},
          "execution_count": 48
        },
        {
          "output_type": "display_data",
          "data": {
            "text/plain": [
              "<Figure size 432x288 with 1 Axes>"
            ],
            "image/png": "[encoded data removed]"
          },
          "metadata": {
            "needs_background": "light"
          }
        }
      ]
    },
    {
      "cell_type": "code",
      "source": [
        ""
      ],
      "metadata": {
        "id": "jo1ThOMQMHMt"
      },
      "execution_count": null,
      "outputs": []
    }
  ]
}